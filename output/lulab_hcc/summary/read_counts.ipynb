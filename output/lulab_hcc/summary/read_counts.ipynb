{
 "cells": [
  {
   "cell_type": "code",
   "execution_count": null,
   "metadata": {},
   "outputs": [],
   "source": [
    "%pylab inline"
   ]
  },
  {
   "cell_type": "code",
   "execution_count": null,
   "metadata": {},
   "outputs": [],
   "source": [
    "import seaborn as sns\n",
    "sns.set_style('whitegrid')\n",
    "import pandas as pd\n",
    "from IPython.display import display"
   ]
  },
  {
   "cell_type": "code",
   "execution_count": null,
   "metadata": {},
   "outputs": [],
   "source": [
    "df = pd.read_table('read_counts.txt', index_col=0)\n",
    "\n",
    "rna_types = [s.split('.')[0] for s in df.index.tolist() if s.endswith('.mapped')]\n",
    "rna_types = 'rRNA,miRNA,piRNA,Y_RNA,srpRNA,tRNA,snRNA,snoRNA,lncRNA,mRNA,tucpRNA,intron,promoter,enhancer,repeats,circRNA,other'.split(',')\n",
    "\n",
    "def gradient_func(val):\n",
    "    return '<span style=\"background: linear-gradient(90deg, #d65f5f {0}%, transparent 0%)\">{0:.3f}</span>'.format(val)\n",
    "\n",
    "# mapped ratio\n",
    "mapped_ratio = {}\n",
    "for sample_id in df.columns.tolist():\n",
    "    mapped_ratio[sample_id] = {}\n",
    "    clean_counts = float(df.loc['clean.unmapped', sample_id])\n",
    "    for rna_type in rna_types:\n",
    "        mapped_ratio[sample_id][rna_type] = df.loc[rna_type + '.mapped', sample_id]/(\n",
    "            clean_counts - df.loc['other.unmapped', sample_id])\n",
    "    for region in ('promoter', 'enhancer', 'intron', 'repeats', 'circRNA'):\n",
    "        mapped_ratio[sample_id]['other'] -= mapped_ratio[sample_id][region]\n",
    "    #mapped_ratio[sample_id]['unmapped'] = 1.0 - sum(list(mapped_ratio[sample_id].values()))\n",
    "mapped_ratio = pd.DataFrame.from_records(mapped_ratio)*100\n",
    "mapped_ratio = mapped_ratio.loc[rna_types, :]\n",
    "display(mapped_ratio.T.style\\\n",
    "            .format(gradient_func))"
   ]
  },
  {
   "cell_type": "code",
   "execution_count": null,
   "metadata": {},
   "outputs": [],
   "source": [
    "display(mapped_ratio.mean(axis=1).to_frame().style\\\n",
    "            .format(gradient_func))"
   ]
  },
  {
   "cell_type": "code",
   "execution_count": null,
   "metadata": {},
   "outputs": [],
   "source": []
  }
 ],
 "metadata": {
  "kernelspec": {
   "display_name": "Python 3",
   "language": "python",
   "name": "python3"
  },
  "language_info": {
   "codemirror_mode": {
    "name": "ipython",
    "version": 3
   },
   "file_extension": ".py",
   "mimetype": "text/x-python",
   "name": "python",
   "nbconvert_exporter": "python",
   "pygments_lexer": "ipython3",
   "version": "3.6.6"
  },
  "toc": {
   "base_numbering": 1,
   "nav_menu": {},
   "number_sections": true,
   "sideBar": true,
   "skip_h1_title": false,
   "title_cell": "Table of Contents",
   "title_sidebar": "Contents",
   "toc_cell": false,
   "toc_position": {},
   "toc_section_display": true,
   "toc_window_display": false
  }
 },
 "nbformat": 4,
 "nbformat_minor": 2
}
