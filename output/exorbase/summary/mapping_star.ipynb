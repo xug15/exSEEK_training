{
 "cells": [
  {
   "cell_type": "code",
   "execution_count": null,
   "metadata": {},
   "outputs": [],
   "source": [
    "%pylab inline"
   ]
  },
  {
   "cell_type": "code",
   "execution_count": null,
   "metadata": {},
   "outputs": [],
   "source": [
    "import numpy as np\n",
    "import pandas as pd\n",
    "from IPython.display import display\n",
    "\n",
    "def gradient_func(val):\n",
    "    return '<span style=\"background: linear-gradient(90deg, #d65f5f {0}%, transparent 0%)\">{0:.3f}</span>'.format(val)"
   ]
  },
  {
   "cell_type": "code",
   "execution_count": null,
   "metadata": {},
   "outputs": [],
   "source": [
    "summary = pd.read_table('mapping_star.txt', sep='\\t')\n",
    "summary.set_index(['sample_id', 'map_step'], inplace=True)\n",
    "display(summary.style.set_caption('Summary'))"
   ]
  },
  {
   "cell_type": "code",
   "execution_count": null,
   "metadata": {},
   "outputs": [],
   "source": [
    "summary_counts = summary.reindex(columns=[\n",
    "                                 'Number of input reads', \n",
    "                                 'Uniquely mapped reads number',\n",
    "                                 'Number of reads mapped to multiple loci', \n",
    "                                 'Number of reads mapped to too many loci'\n",
    "                                ])\n",
    "for item in ('too many mismatches', 'too short', 'other'):\n",
    "    summary_counts['Number of reads unmapped: {}'.format(item)] = \\\n",
    "        (summary['% of reads unmapped: {}'.format(item)]\\\n",
    "        .str.strip('%').astype('float')*0.01*summary_counts['Number of input reads']).astype('int')\n",
    "\n",
    "display(summary_counts.style.set_caption('Read counts summary'))"
   ]
  },
  {
   "cell_type": "code",
   "execution_count": null,
   "metadata": {},
   "outputs": [],
   "source": [
    "summary_percent = summary_counts.copy()\n",
    "summary_percent = 100.0*summary_percent.div(summary_percent['Number of input reads'], axis=0)\n",
    "summary_percent.drop(columns=['Number of input reads'], inplace=True)\n",
    "display(summary_percent.style.format(gradient_func).set_caption('Read percent summary'))"
   ]
  },
  {
   "cell_type": "code",
   "execution_count": null,
   "metadata": {},
   "outputs": [],
   "source": []
  }
 ],
 "metadata": {
  "kernelspec": {
   "display_name": "Python 3",
   "language": "python",
   "name": "python3"
  },
  "language_info": {
   "codemirror_mode": {
    "name": "ipython",
    "version": 3
   },
   "file_extension": ".py",
   "mimetype": "text/x-python",
   "name": "python",
   "nbconvert_exporter": "python",
   "pygments_lexer": "ipython3",
   "version": "3.6.6"
  },
  "toc": {
   "base_numbering": 1,
   "nav_menu": {},
   "number_sections": true,
   "sideBar": true,
   "skip_h1_title": false,
   "title_cell": "Table of Contents",
   "title_sidebar": "Contents",
   "toc_cell": false,
   "toc_position": {},
   "toc_section_display": true,
   "toc_window_display": false
  }
 },
 "nbformat": 4,
 "nbformat_minor": 2
}
